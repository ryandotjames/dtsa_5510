{
  "nbformat": 4,
  "nbformat_minor": 0,
  "metadata": {
    "colab": {
      "name": "ONET_final_project.ipynb",
      "provenance": [],
      "collapsed_sections": []
    },
    "kernelspec": {
      "name": "python3",
      "display_name": "Python 3"
    },
    "language_info": {
      "name": "python"
    }
  },
  "cells": [
    {
      "cell_type": "markdown",
      "source": [
        "# Contents\n",
        "\n",
        "*  Problem Statement\n",
        "*  Gather Data\n",
        "*  EDA (Inspect/Viz/Clean)\n",
        "*  Models\n",
        "*  Analysis\n"
      ],
      "metadata": {
        "id": "2Tb_zd5DC5gE"
      }
    },
    {
      "cell_type": "markdown",
      "source": [
        "## Problem Statement\n",
        "\n",
        "An individual's profession and career can be fundamental to not only their economic prosperity, but also their mental and emotional well-being. There are a lot of considerations when it comes to finding a job, but among them are the components that make up the day-to-day activities of work. These can be described as several different features:\n",
        "*  Knowledge\n",
        "*  Skills\n",
        "*  Abilities\n",
        "*  Work activities\n",
        "\n",
        "But what happens when someone wants to change their role, but also wants to properly transition their skillset to a new role? This can happen for a variety of reasons. Sometimes, this can be a simple change of desire, in which someone might use a career coach, mentor, etc.\n",
        "\n",
        "However, there are other reasons someone may switch job titles, which will be discussed below. When these reasons are out of someone's hands, they may want to find jobs most similar to theirs. How can this be done algorithmically?"
      ],
      "metadata": {
        "id": "CXfoiQ0DC50z"
      }
    },
    {
      "cell_type": "markdown",
      "source": [
        "## Gather data\n",
        "Data was collected from the O*NET Online data system, which is sponsored by the U.S. Department of Labor. All the information can be accessed from here. Specifically for this project, data was accessed from the 26.3 database, downloaded as a zipped file of Excel documents, and uploaded to Google Drive for access below.\n",
        "\n",
        "https://www.onetcenter.org/database.html#individual-files"
      ],
      "metadata": {
        "id": "aOVHF7JHC59z"
      }
    },
    {
      "cell_type": "code",
      "execution_count": 14,
      "metadata": {
        "id": "Y8VVOERaVqu6"
      },
      "outputs": [],
      "source": [
        "# Import necesssary packages.\n",
        "import pandas as pd\n",
        "import numpy as np\n",
        "import os\n",
        "import matplotlib.pyplot as plt\n",
        "import scipy.stats as stats"
      ]
    },
    {
      "cell_type": "code",
      "source": [
        "# Mount to Google Drive.\n",
        "from google.colab import drive\n",
        "drive.mount('/content/drive')"
      ],
      "metadata": {
        "colab": {
          "base_uri": "https://localhost:8080/"
        },
        "id": "fxheLq-hV8rZ",
        "outputId": "257a7ee7-0bf6-4583-8f34-9304828c5034"
      },
      "execution_count": 2,
      "outputs": [
        {
          "output_type": "stream",
          "name": "stdout",
          "text": [
            "Mounted at /content/drive\n"
          ]
        }
      ]
    },
    {
      "cell_type": "code",
      "source": [
        "# Set a path and read in Excel sheets for our necessary \n",
        "path = 'drive/My Drive/graduate_school/msds_cu_boulder/block_7/machine_learning_2/final_project/db_26_2_excel/'\n",
        "\n",
        "skills_df = pd.read_excel(path+'Skills.xlsx')\n",
        "knowledge_df = pd.read_excel(path+'Knowledge.xlsx')\n",
        "abilities_df = pd.read_excel(path+'Abilities.xlsx')\n",
        "work_activity_df = pd.read_excel(path+'Work Activities.xlsx')"
      ],
      "metadata": {
        "id": "zhcEsx8YV-bh"
      },
      "execution_count": 3,
      "outputs": []
    },
    {
      "cell_type": "markdown",
      "source": [
        "## EDA (Inspect/Viz/Clean)"
      ],
      "metadata": {
        "id": "CC7hiPoxC6Ei"
      }
    },
    {
      "cell_type": "code",
      "source": [
        "# First quick inspection.\n",
        "print(skills_df.shape)\n",
        "print(skills_df.head())\n",
        "print(len(pd.unique(skills_df['O*NET-SOC Code'])))"
      ],
      "metadata": {
        "id": "_RwvuqqwOfst",
        "colab": {
          "base_uri": "https://localhost:8080/"
        },
        "outputId": "6f066c39-3a79-4f0e-9195-ed189466a320"
      },
      "execution_count": 7,
      "outputs": [
        {
          "output_type": "stream",
          "name": "stdout",
          "text": [
            "(61110, 15)\n",
            "  O*NET-SOC Code             Title Element ID           Element Name Scale ID  \\\n",
            "0     11-1011.00  Chief Executives    2.A.1.a  Reading Comprehension       IM   \n",
            "1     11-1011.00  Chief Executives    2.A.1.a  Reading Comprehension       LV   \n",
            "2     11-1011.00  Chief Executives    2.A.1.b       Active Listening       IM   \n",
            "3     11-1011.00  Chief Executives    2.A.1.b       Active Listening       LV   \n",
            "4     11-1011.00  Chief Executives    2.A.1.c                Writing       IM   \n",
            "\n",
            "   Scale Name  Data Value    N  Standard Error  Lower CI Bound  \\\n",
            "0  Importance        4.12  8.0            0.13            3.88   \n",
            "1       Level        4.75  8.0            0.16            4.43   \n",
            "2  Importance        4.12  8.0            0.13            3.88   \n",
            "3       Level        4.88  8.0            0.23            4.43   \n",
            "4  Importance        4.00  8.0            0.00            4.00   \n",
            "\n",
            "   Upper CI Bound Recommend Suppress Not Relevant     Date Domain Source  \n",
            "0            4.37                  N          NaN  07/2014       Analyst  \n",
            "1            5.07                  N            N  07/2014       Analyst  \n",
            "2            4.37                  N          NaN  07/2014       Analyst  \n",
            "3            5.32                  N            N  07/2014       Analyst  \n",
            "4            4.00                  N          NaN  07/2014       Analyst  \n",
            "873\n"
          ]
        }
      ]
    },
    {
      "cell_type": "markdown",
      "source": [
        "Upon first inspection, it appears that the dataframe for \"skills\" is 61,110 rows by 15 columns. The columns value makes sense just by looking, although we know from documentation that there should be 873 data-level occupations. What we see is there are duplicate rows for various occupations due to the following factors:\n",
        "*  \"Elements\" (here, Skills) are in repeated rows, and\n",
        "*  There is another qualifier for \"Level\" or \"Importance\".\n",
        "\n",
        "Here I'm using domain knowledge to know that for this analysis, we are interested in Importance. With these two things in mind, our preprocessing will involve:\n",
        "*  Filtering dataframdes to \"Importance\" and\n",
        "*  Pivoting dataframes to have occupations in rows and \"elements\" in columns\", which can then be merged."
      ],
      "metadata": {
        "id": "JwTg1Uf5QI3C"
      }
    },
    {
      "cell_type": "code",
      "source": [
        "# Filter down to element importance levels.\n",
        "skills_df = skills_df[skills_df['Scale ID'] == 'IM']\n",
        "knowledge_df = knowledge_df[knowledge_df['Scale ID'] == 'IM']\n",
        "abilities_df = abilities_df[abilities_df['Scale ID'] == 'IM']\n",
        "work_activity_df = work_activity_df[work_activity_df['Scale ID'] == 'IM']\n",
        "\n",
        "titles_df = skills_df[['O*NET-SOC Code', 'Title']].copy()"
      ],
      "metadata": {
        "id": "KcOxDq0gWLfM"
      },
      "execution_count": 8,
      "outputs": []
    },
    {
      "cell_type": "code",
      "source": [
        "# Drop unneccesary columns and then pivot each dataframe.\n",
        "skills_df = skills_df[['O*NET-SOC Code', 'Element Name', 'Data Value']].copy()\n",
        "skills_df = skills_df.pivot_table(index = 'O*NET-SOC Code', columns='Element Name')\n",
        "\n",
        "knowledge_df = knowledge_df[['O*NET-SOC Code', 'Element Name', 'Data Value']].copy()\n",
        "knowledge_df = knowledge_df.pivot_table(index = 'O*NET-SOC Code', columns='Element Name')\n",
        "\n",
        "abilities_df = abilities_df[['O*NET-SOC Code', 'Element Name', 'Data Value']].copy()\n",
        "abilities_df = abilities_df.pivot_table(index = 'O*NET-SOC Code', columns='Element Name')\n",
        "\n",
        "work_activity_df = work_activity_df[['O*NET-SOC Code', 'Element Name', 'Data Value']].copy()\n",
        "work_activity_df = work_activity_df.pivot_table(index = 'O*NET-SOC Code', columns='Element Name')\n"
      ],
      "metadata": {
        "id": "nY1B5C1E8ejN"
      },
      "execution_count": 9,
      "outputs": []
    },
    {
      "cell_type": "code",
      "source": [
        "# Now let's take a look at each of these to make sure our shapes make sense.\n",
        "print(skills_df.shape, knowledge_df.shape, abilities_df.shape, work_activity_df.shape)\n",
        "\n",
        "code_index_dict = {}\n",
        "\n",
        "for i in range(0, len(skills_df.index)):\n",
        "  code_index_dict[i] = [skills_df.index[i], list(titles_df.loc[titles_df['O*NET-SOC Code'] == skills_df.index[i], 'Title'].sample(n=1))[0]]"
      ],
      "metadata": {
        "id": "CDZM8MA-aYW3",
        "colab": {
          "base_uri": "https://localhost:8080/"
        },
        "outputId": "1bc30b2b-e1d8-458e-ef59-8b2ef98d4e15"
      },
      "execution_count": 10,
      "outputs": [
        {
          "output_type": "stream",
          "name": "stdout",
          "text": [
            "(873, 35) (873, 33) (873, 52) (873, 41)\n"
          ]
        }
      ]
    },
    {
      "cell_type": "markdown",
      "source": [
        "Now that we have our paired-down and properly structured dataframe, we're going to build our large dataframe to actually work with during our modeling phase."
      ],
      "metadata": {
        "id": "c4PCPWZYRrxv"
      }
    },
    {
      "cell_type": "code",
      "source": [
        "large_df = pd.concat([skills_df, knowledge_df, abilities_df, work_activity_df], axis=1)\n",
        "leaves = large_df.index.values"
      ],
      "metadata": {
        "id": "fkVey7BhEwZS"
      },
      "execution_count": 11,
      "outputs": []
    },
    {
      "cell_type": "code",
      "source": [
        "print(large_df.shape)\n",
        "print(large_df.head)"
      ],
      "metadata": {
        "colab": {
          "base_uri": "https://localhost:8080/"
        },
        "id": "iIwlnX4tFJEl",
        "outputId": "f39c6766-8b53-40a9-be7b-cbca01e4ee20"
      },
      "execution_count": 21,
      "outputs": [
        {
          "output_type": "stream",
          "name": "stdout",
          "text": [
            "(873, 161)\n",
            "<bound method NDFrame.head of                     Data Value                                           \\\n",
            "Element Name   Active Learning Active Listening Complex Problem Solving   \n",
            "O*NET-SOC Code                                                            \n",
            "11-1011.00                4.00             4.12                    4.38   \n",
            "11-1011.03                3.75             4.00                    4.00   \n",
            "11-1021.00                3.50             4.00                    3.50   \n",
            "11-2011.00                3.25             4.12                    3.50   \n",
            "11-2021.00                3.88             3.88                    3.62   \n",
            "...                        ...              ...                     ...   \n",
            "53-7071.00                2.88             3.12                    3.00   \n",
            "53-7072.00                2.88             3.12                    2.88   \n",
            "53-7073.00                2.38             2.88                    3.00   \n",
            "53-7081.00                2.50             2.88                    2.75   \n",
            "53-7121.00                2.75             3.00                    3.00   \n",
            "\n",
            "                                                                     \\\n",
            "Element Name   Coordination Critical Thinking Equipment Maintenance   \n",
            "O*NET-SOC Code                                                        \n",
            "11-1011.00             4.25              4.38                  1.00   \n",
            "11-1011.03             3.75              4.12                  1.00   \n",
            "11-1021.00             4.00              3.88                  1.00   \n",
            "11-2011.00             3.50              4.00                  1.00   \n",
            "11-2021.00             3.50              3.88                  1.00   \n",
            "...                     ...               ...                   ...   \n",
            "53-7071.00             3.00              3.62                  3.12   \n",
            "53-7072.00             2.88              3.12                  2.88   \n",
            "53-7073.00             2.25              3.12                  3.12   \n",
            "53-7081.00             3.00              3.00                  3.00   \n",
            "53-7121.00             2.88              3.00                  2.62   \n",
            "\n",
            "                                                             \\\n",
            "Element Name   Equipment Selection Installation Instructing   \n",
            "O*NET-SOC Code                                                \n",
            "11-1011.00                    1.12         1.00        3.12   \n",
            "11-1011.03                    1.12         1.00        3.25   \n",
            "11-1021.00                    1.00         1.00        3.12   \n",
            "11-2011.00                    1.12         1.00        2.88   \n",
            "11-2021.00                    1.00         1.00        3.00   \n",
            "...                            ...          ...         ...   \n",
            "53-7071.00                    2.12         1.00        2.50   \n",
            "53-7072.00                    2.25         1.12        2.88   \n",
            "53-7073.00                    2.25         1.25        2.12   \n",
            "53-7081.00                    1.88         1.00        2.25   \n",
            "53-7121.00                    2.38         1.00        2.50   \n",
            "\n",
            "                                             ...  \\\n",
            "Element Name   Judgment and Decision Making  ...   \n",
            "O*NET-SOC Code                               ...   \n",
            "11-1011.00                             4.50  ...   \n",
            "11-1011.03                             3.88  ...   \n",
            "11-1021.00                             3.50  ...   \n",
            "11-2011.00                             3.75  ...   \n",
            "11-2021.00                             3.75  ...   \n",
            "...                                     ...  ...   \n",
            "53-7071.00                             3.00  ...   \n",
            "53-7072.00                             3.00  ...   \n",
            "53-7073.00                             3.12  ...   \n",
            "53-7081.00                             2.88  ...   \n",
            "53-7121.00                             2.88  ...   \n",
            "\n",
            "                                                               \\\n",
            "Element Name   Repairing and Maintaining Electronic Equipment   \n",
            "O*NET-SOC Code                                                  \n",
            "11-1011.00                                               1.27   \n",
            "11-1011.03                                               1.48   \n",
            "11-1021.00                                               1.94   \n",
            "11-2011.00                                               1.34   \n",
            "11-2021.00                                               1.15   \n",
            "...                                                       ...   \n",
            "53-7071.00                                               3.82   \n",
            "53-7072.00                                               3.17   \n",
            "53-7073.00                                               2.74   \n",
            "53-7081.00                                               3.03   \n",
            "53-7121.00                                               2.49   \n",
            "\n",
            "                                                               \\\n",
            "Element Name   Repairing and Maintaining Mechanical Equipment   \n",
            "O*NET-SOC Code                                                  \n",
            "11-1011.00                                               1.21   \n",
            "11-1011.03                                               1.41   \n",
            "11-1021.00                                               2.24   \n",
            "11-2011.00                                               1.21   \n",
            "11-2021.00                                               1.14   \n",
            "...                                                       ...   \n",
            "53-7071.00                                               4.47   \n",
            "53-7072.00                                               4.22   \n",
            "53-7073.00                                               3.90   \n",
            "53-7081.00                                               3.46   \n",
            "53-7121.00                                               3.54   \n",
            "\n",
            "                                                                \\\n",
            "Element Name   Resolving Conflicts and Negotiating with Others   \n",
            "O*NET-SOC Code                                                   \n",
            "11-1011.00                                                4.26   \n",
            "11-1011.03                                                3.44   \n",
            "11-1021.00                                                3.91   \n",
            "11-2011.00                                                2.82   \n",
            "11-2021.00                                                3.68   \n",
            "...                                                        ...   \n",
            "53-7071.00                                                2.60   \n",
            "53-7072.00                                                3.19   \n",
            "53-7073.00                                                2.78   \n",
            "53-7081.00                                                2.91   \n",
            "53-7121.00                                                2.91   \n",
            "\n",
            "                                                                             \\\n",
            "Element Name   Scheduling Work and Activities Selling or Influencing Others   \n",
            "O*NET-SOC Code                                                                \n",
            "11-1011.00                               3.36                          3.68   \n",
            "11-1011.03                               3.63                          4.11   \n",
            "11-1021.00                               3.97                          3.60   \n",
            "11-2011.00                               3.34                          3.64   \n",
            "11-2021.00                               3.40                          4.27   \n",
            "...                                       ...                           ...   \n",
            "53-7071.00                               2.51                          1.90   \n",
            "53-7072.00                               3.44                          2.15   \n",
            "53-7073.00                               3.31                          2.21   \n",
            "53-7081.00                               2.47                          2.64   \n",
            "53-7121.00                               3.55                          1.99   \n",
            "\n",
            "                                                                  \\\n",
            "Element Name   Staffing Organizational Units Thinking Creatively   \n",
            "O*NET-SOC Code                                                     \n",
            "11-1011.00                              3.70                3.86   \n",
            "11-1011.03                              3.26                4.33   \n",
            "11-1021.00                              3.46                3.32   \n",
            "11-2011.00                              2.29                4.05   \n",
            "11-2021.00                              2.25                4.28   \n",
            "...                                      ...                 ...   \n",
            "53-7071.00                              1.84                3.12   \n",
            "53-7072.00                              2.18                3.41   \n",
            "53-7073.00                              1.94                3.34   \n",
            "53-7081.00                              1.61                3.01   \n",
            "53-7121.00                              1.93                3.44   \n",
            "\n",
            "                                             \\\n",
            "Element Name   Training and Teaching Others   \n",
            "O*NET-SOC Code                                \n",
            "11-1011.00                             3.00   \n",
            "11-1011.03                             3.63   \n",
            "11-1021.00                             3.94   \n",
            "11-2011.00                             2.74   \n",
            "11-2021.00                             3.14   \n",
            "...                                     ...   \n",
            "53-7071.00                             3.73   \n",
            "53-7072.00                             3.15   \n",
            "53-7073.00                             3.48   \n",
            "53-7081.00                             2.66   \n",
            "53-7121.00                             3.45   \n",
            "\n",
            "                                                                             \n",
            "Element Name   Updating and Using Relevant Knowledge Working with Computers  \n",
            "O*NET-SOC Code                                                               \n",
            "11-1011.00                                      4.06                   4.20  \n",
            "11-1011.03                                      4.30                   4.15  \n",
            "11-1021.00                                      3.63                   4.15  \n",
            "11-2011.00                                      3.78                   4.61  \n",
            "11-2021.00                                      3.83                   4.40  \n",
            "...                                              ...                    ...  \n",
            "53-7071.00                                      4.05                   3.85  \n",
            "53-7072.00                                      3.99                   2.69  \n",
            "53-7073.00                                      3.31                   3.53  \n",
            "53-7081.00                                      2.92                   1.62  \n",
            "53-7121.00                                      3.84                   2.82  \n",
            "\n",
            "[873 rows x 161 columns]>\n"
          ]
        }
      ]
    },
    {
      "cell_type": "markdown",
      "source": [
        "We know to do clustering we're going to convert this to a numpy array/matrix, so let's go ahead and do that and do a little more exploration. We can see after the matrix that we have 161 features we will be working with and 873 occupations."
      ],
      "metadata": {
        "id": "8PP0bSEvSKGq"
      }
    },
    {
      "cell_type": "code",
      "source": [
        "large_matrix = np.array(large_df)\n",
        "print(large_matrix.shape)\n",
        "print(large_matrix)"
      ],
      "metadata": {
        "colab": {
          "base_uri": "https://localhost:8080/"
        },
        "id": "PVNODp3qFvx5",
        "outputId": "2dde1d78-2b7d-44ed-aa15-7b03cb6288ce"
      },
      "execution_count": 22,
      "outputs": [
        {
          "output_type": "stream",
          "name": "stdout",
          "text": [
            "(873, 161)\n",
            "[[4.   4.12 4.38 ... 3.   4.06 4.2 ]\n",
            " [3.75 4.   4.   ... 3.63 4.3  4.15]\n",
            " [3.5  4.   3.5  ... 3.94 3.63 4.15]\n",
            " ...\n",
            " [2.38 2.88 3.   ... 3.48 3.31 3.53]\n",
            " [2.5  2.88 2.75 ... 2.66 2.92 1.62]\n",
            " [2.75 3.   3.   ... 3.45 3.84 2.82]]\n"
          ]
        }
      ]
    },
    {
      "cell_type": "code",
      "source": [
        "avgs = []\n",
        "mins = []\n",
        "maxs = []\n",
        "\n",
        "for i in range(0, len(large_matrix)):\n",
        "  avgs.append(np.mean(large_matrix[i]))\n",
        "  mins.append(min(large_matrix[i]))\n",
        "  maxs.append(max(large_matrix[i]))\n",
        "\n",
        "avg_density = stats.gaussian_kde(avgs)\n",
        "min_density = stats.gaussian_kde(mins)\n",
        "max_density = stats.gaussian_kde(maxs)\n",
        "n, x, _ = plt.hist(avgs, bins=np.linspace(0, 4, 50), \n",
        "                   histtype=u'step', density=True)  \n",
        "n, x1, _ = plt.hist(mins, bins=np.linspace(0, 4, 50), \n",
        "                   histtype=u'step', density=True)  \n",
        "n, x2, _ = plt.hist(maxs, bins=np.linspace(0, 4, 50), \n",
        "                   histtype=u'step', density=True)  \n",
        "plt.plot(x, avg_density(x))\n",
        "plt.plot(x1, min_density(x1))\n",
        "plt.plot(x2, max_density(x2))\n",
        "plt.show()"
      ],
      "metadata": {
        "colab": {
          "base_uri": "https://localhost:8080/",
          "height": 265
        },
        "id": "dvbmHFnETR7x",
        "outputId": "41a11a36-47a1-4fa5-c615-9cb072ffb3b5"
      },
      "execution_count": 20,
      "outputs": [
        {
          "output_type": "display_data",
          "data": {
            "text/plain": [
              "<Figure size 432x288 with 1 Axes>"
            ],
            "image/png": "[encoded data removed]"
          },
          "metadata": {
            "needs_background": "light"
          }
        }
      ]
    },
    {
      "cell_type": "markdown",
      "source": [
        "So by the look of it, all of our characteristics/elements are between 0 and 4, with an average somewhere between 2.5 and 3.0, although this is likely to be unique to each element across all occupations. Because these values appear to already be normalized, no other data transformations will be necessary. Although some restructuring was necessary for this analysis, cleaning was on the relatively light side."
      ],
      "metadata": {
        "id": "5SUuBCcLVIjg"
      }
    },
    {
      "cell_type": "markdown",
      "source": [
        "## Models"
      ],
      "metadata": {
        "id": "_bnqGfdPC6LG"
      }
    },
    {
      "cell_type": "code",
      "source": [
        "# Import our packages specific to modeling.\n",
        "from scipy.cluster.hierarchy import linkage, dendrogram, fcluster\n",
        "import matplotlib.pyplot as plt\n",
        "from scipy.spatial.distance import pdist, squareform"
      ],
      "metadata": {
        "id": "Bl6rYjCcFKq7"
      },
      "execution_count": 23,
      "outputs": []
    },
    {
      "cell_type": "code",
      "source": [
        "# Let's first build our distance matrix, calculating distance between each occupation based on all featurs.\n",
        "dists = pdist(large_matrix, metric = \"euclidean\")\n",
        "\n",
        "temp = linkage(dists, 'average')\n",
        "\n",
        "plt.figure(figsize=(15, 5))\n",
        "\n",
        "dn = dendrogram(temp, labels = leaves, above_threshold_color=\"green\", \n",
        "                color_threshold=4, orientation='right')#, truncate_mode='lastp', p=21)  "
      ],
      "metadata": {
        "colab": {
          "base_uri": "https://localhost:8080/",
          "height": 322
        },
        "id": "UAsHXvqWFNRc",
        "outputId": "62e720c7-904a-4236-941f-b32347e26084"
      },
      "execution_count": 27,
      "outputs": [
        {
          "output_type": "display_data",
          "data": {
            "text/plain": [
              "<Figure size 1080x360 with 1 Axes>"
            ],
            "image/png": "[encoded data removed]"
          },
          "metadata": {
            "needs_background": "light"
          }
        }
      ]
    },
    {
      "cell_type": "code",
      "source": [
        "# And here we're going to get our distance matrix into a useable format.\n",
        "dist_cond_matrix = squareform(dists)\n",
        "print(dist_cond_matrix.shape)"
      ],
      "metadata": {
        "colab": {
          "base_uri": "https://localhost:8080/"
        },
        "id": "-9YrWMUlF6sF",
        "outputId": "14eac0eb-cab8-4929-c6e9-b485d860dec7"
      },
      "execution_count": 28,
      "outputs": [
        {
          "output_type": "stream",
          "name": "stdout",
          "text": [
            "(873, 873)\n"
          ]
        }
      ]
    },
    {
      "cell_type": "code",
      "source": [
        "#current_job = '15-2051.01'\n",
        "current_job = '29-1229.04'\n",
        "current_job_code = list(s for s in code_index_dict if code_index_dict[s][0]==current_job)[0]\n",
        "current_job_title = code_index_dict[current_job_code][1]\n",
        "\n",
        "\n",
        "close_array = dist_cond_matrix[current_job_code]\n",
        "lowest_indx = np.argsort(close_array)[:11]\n",
        "highest_indx = np.argsort(close_array)[-5:]\n",
        "\n",
        "print(\"Current job title: \", current_job_title)\n",
        "print(\"The 10 closest jobs in terms of knowledge, skills, and ability importance are:\")\n",
        "\n",
        "for j in range(0, len(lowest_indx)):\n",
        "  if code_index_dict[lowest_indx[j]][0] == current_job:\n",
        "    pass\n",
        "  else:\n",
        "    print(code_index_dict[lowest_indx[j]][0], code_index_dict[lowest_indx[j]][1])\n",
        "print(\"\")\n",
        "print(\"The 5 most different jobs from your current are:\")\n",
        "\n",
        "for k in range(0, len(highest_indx)):\n",
        "  print(code_index_dict[highest_indx[k]][0], code_index_dict[highest_indx[k]][1])"
      ],
      "metadata": {
        "colab": {
          "base_uri": "https://localhost:8080/"
        },
        "id": "RvF9ikaQLm7e",
        "outputId": "a1bec284-e3d9-45dd-952c-06d03bad155a"
      },
      "execution_count": 31,
      "outputs": [
        {
          "output_type": "stream",
          "name": "stdout",
          "text": [
            "Current job title:  Physical Medicine and Rehabilitation Physicians\n",
            "The 10 closest jobs in terms of knowledge, skills, and ability importance are:\n",
            "29-1141.04 Clinical Nurse Specialists\n",
            "29-1171.00 Nurse Practitioners\n",
            "29-1161.00 Nurse Midwives\n",
            "29-1218.00 Obstetricians and Gynecologists\n",
            "25-1072.00 Nursing Instructors and Teachers, Postsecondary\n",
            "29-1071.00 Physician Assistants\n",
            "29-1216.00 General Internal Medicine Physicians\n",
            "29-1229.02 Hospitalists\n",
            "29-1224.00 Radiologists\n",
            "29-1041.00 Optometrists\n",
            "\n",
            "The 5 most different jobs from your current are:\n",
            "47-3014.00 Helpers--Painters, Paperhangers, Plasterers, and Stucco Masons\n",
            "53-7061.00 Cleaners of Vehicles and Equipment\n",
            "41-9041.00 Telemarketers\n",
            "45-4021.00 Fallers\n",
            "41-9012.00 Models\n"
          ]
        }
      ]
    },
    {
      "cell_type": "code",
      "source": [
        "clusters = list(fcluster(temp, 24.2, criterion='distance'))\n",
        "groups = {}\n",
        "for i in range (0, len(leaves)):\n",
        "  if clusters[i] in groups:\n",
        "    groups[clusters[i]].append(leaves[i])\n",
        "  else:\n",
        "    groups[clusters[i]] = [leaves[i]]\n",
        "groups = dict(sorted(groups.items()))\n",
        "rtrn_groups_df = pd.DataFrame.from_dict(groups, orient='index').transpose()\n",
        "new_col_names = []\n",
        "for col in rtrn_groups_df.columns:\n",
        "    new_col_names.append(str(col))\n",
        "rtrn_groups_df.columns = new_col_names\n",
        "\n",
        "display(rtrn_groups_df)"
      ],
      "metadata": {
        "colab": {
          "base_uri": "https://localhost:8080/",
          "height": 424
        },
        "id": "yGvwSiXWYhhU",
        "outputId": "b473876c-90cd-499a-8006-36b28330f0cb"
      },
      "execution_count": 30,
      "outputs": [
        {
          "output_type": "display_data",
          "data": {
            "text/plain": [
              "              1\n",
              "0    11-1011.00\n",
              "1    11-1011.03\n",
              "2    11-1021.00\n",
              "3    11-2011.00\n",
              "4    11-2021.00\n",
              "..          ...\n",
              "868  53-7071.00\n",
              "869  53-7072.00\n",
              "870  53-7073.00\n",
              "871  53-7081.00\n",
              "872  53-7121.00\n",
              "\n",
              "[873 rows x 1 columns]"
            ],
            "text/html": [
              "\n",
              "  <div id=\"df-f9317d30-d99b-4fa7-b99d-ba08c86d67b9\">\n",
              "    <div class=\"colab-df-container\">\n",
              "      <div>\n",
              "<style scoped>\n",
              "    .dataframe tbody tr th:only-of-type {\n",
              "        vertical-align: middle;\n",
              "    }\n",
              "\n",
              "    .dataframe tbody tr th {\n",
              "        vertical-align: top;\n",
              "    }\n",
              "\n",
              "    .dataframe thead th {\n",
              "        text-align: right;\n",
              "    }\n",
              "</style>\n",
              "<table border=\"1\" class=\"dataframe\">\n",
              "  <thead>\n",
              "    <tr style=\"text-align: right;\">\n",
              "      <th></th>\n",
              "      <th>1</th>\n",
              "    </tr>\n",
              "  </thead>\n",
              "  <tbody>\n",
              "    <tr>\n",
              "      <th>0</th>\n",
              "      <td>11-1011.00</td>\n",
              "    </tr>\n",
              "    <tr>\n",
              "      <th>1</th>\n",
              "      <td>11-1011.03</td>\n",
              "    </tr>\n",
              "    <tr>\n",
              "      <th>2</th>\n",
              "      <td>11-1021.00</td>\n",
              "    </tr>\n",
              "    <tr>\n",
              "      <th>3</th>\n",
              "      <td>11-2011.00</td>\n",
              "    </tr>\n",
              "    <tr>\n",
              "      <th>4</th>\n",
              "      <td>11-2021.00</td>\n",
              "    </tr>\n",
              "    <tr>\n",
              "      <th>...</th>\n",
              "      <td>...</td>\n",
              "    </tr>\n",
              "    <tr>\n",
              "      <th>868</th>\n",
              "      <td>53-7071.00</td>\n",
              "    </tr>\n",
              "    <tr>\n",
              "      <th>869</th>\n",
              "      <td>53-7072.00</td>\n",
              "    </tr>\n",
              "    <tr>\n",
              "      <th>870</th>\n",
              "      <td>53-7073.00</td>\n",
              "    </tr>\n",
              "    <tr>\n",
              "      <th>871</th>\n",
              "      <td>53-7081.00</td>\n",
              "    </tr>\n",
              "    <tr>\n",
              "      <th>872</th>\n",
              "      <td>53-7121.00</td>\n",
              "    </tr>\n",
              "  </tbody>\n",
              "</table>\n",
              "<p>873 rows × 1 columns</p>\n",
              "</div>\n",
              "      <button class=\"colab-df-convert\" onclick=\"convertToInteractive('df-f9317d30-d99b-4fa7-b99d-ba08c86d67b9')\"\n",
              "              title=\"Convert this dataframe to an interactive table.\"\n",
              "              style=\"display:none;\">\n",
              "        \n",
              "  <svg xmlns=\"http://www.w3.org/2000/svg\" height=\"24px\"viewBox=\"0 0 24 24\"\n",
              "       width=\"24px\">\n",
              "    <path d=\"M0 0h24v24H0V0z\" fill=\"none\"/>\n",
              "    <path d=\"M18.56 5.44l.94 2.06.94-2.06 2.06-.94-2.06-.94-.94-2.06-.94 2.06-2.06.94zm-11 1L8.5 8.5l.94-2.06 2.06-.94-2.06-.94L8.5 2.5l-.94 2.06-2.06.94zm10 10l.94 2.06.94-2.06 2.06-.94-2.06-.94-.94-2.06-.94 2.06-2.06.94z\"/><path d=\"M17.41 7.96l-1.37-1.37c-.4-.4-.92-.59-1.43-.59-.52 0-1.04.2-1.43.59L10.3 9.45l-7.72 7.72c-.78.78-.78 2.05 0 2.83L4 21.41c.39.39.9.59 1.41.59.51 0 1.02-.2 1.41-.59l7.78-7.78 2.81-2.81c.8-.78.8-2.07 0-2.86zM5.41 20L4 18.59l7.72-7.72 1.47 1.35L5.41 20z\"/>\n",
              "  </svg>\n",
              "      </button>\n",
              "      \n",
              "  <style>\n",
              "    .colab-df-container {\n",
              "      display:flex;\n",
              "      flex-wrap:wrap;\n",
              "      gap: 12px;\n",
              "    }\n",
              "\n",
              "    .colab-df-convert {\n",
              "      background-color: #E8F0FE;\n",
              "      border: none;\n",
              "      border-radius: 50%;\n",
              "      cursor: pointer;\n",
              "      display: none;\n",
              "      fill: #1967D2;\n",
              "      height: 32px;\n",
              "      padding: 0 0 0 0;\n",
              "      width: 32px;\n",
              "    }\n",
              "\n",
              "    .colab-df-convert:hover {\n",
              "      background-color: #E2EBFA;\n",
              "      box-shadow: 0px 1px 2px rgba(60, 64, 67, 0.3), 0px 1px 3px 1px rgba(60, 64, 67, 0.15);\n",
              "      fill: #174EA6;\n",
              "    }\n",
              "\n",
              "    [theme=dark] .colab-df-convert {\n",
              "      background-color: #3B4455;\n",
              "      fill: #D2E3FC;\n",
              "    }\n",
              "\n",
              "    [theme=dark] .colab-df-convert:hover {\n",
              "      background-color: #434B5C;\n",
              "      box-shadow: 0px 1px 3px 1px rgba(0, 0, 0, 0.15);\n",
              "      filter: drop-shadow(0px 1px 2px rgba(0, 0, 0, 0.3));\n",
              "      fill: #FFFFFF;\n",
              "    }\n",
              "  </style>\n",
              "\n",
              "      <script>\n",
              "        const buttonEl =\n",
              "          document.querySelector('#df-f9317d30-d99b-4fa7-b99d-ba08c86d67b9 button.colab-df-convert');\n",
              "        buttonEl.style.display =\n",
              "          google.colab.kernel.accessAllowed ? 'block' : 'none';\n",
              "\n",
              "        async function convertToInteractive(key) {\n",
              "          const element = document.querySelector('#df-f9317d30-d99b-4fa7-b99d-ba08c86d67b9');\n",
              "          const dataTable =\n",
              "            await google.colab.kernel.invokeFunction('convertToInteractive',\n",
              "                                                     [key], {});\n",
              "          if (!dataTable) return;\n",
              "\n",
              "          const docLinkHtml = 'Like what you see? Visit the ' +\n",
              "            '<a target=\"_blank\" href=https://colab.research.google.com/notebooks/data_table.ipynb>data table notebook</a>'\n",
              "            + ' to learn more about interactive tables.';\n",
              "          element.innerHTML = '';\n",
              "          dataTable['output_type'] = 'display_data';\n",
              "          await google.colab.output.renderOutput(dataTable, element);\n",
              "          const docLink = document.createElement('div');\n",
              "          docLink.innerHTML = docLinkHtml;\n",
              "          element.appendChild(docLink);\n",
              "        }\n",
              "      </script>\n",
              "    </div>\n",
              "  </div>\n",
              "  "
            ]
          },
          "metadata": {}
        }
      ]
    },
    {
      "cell_type": "markdown",
      "source": [
        "## Analysis"
      ],
      "metadata": {
        "id": "aUd7-xb8Dk4n"
      }
    },
    {
      "cell_type": "markdown",
      "source": [
        "What we have are the \"guts\" behind what could be a very helpful tool. Potential next steps beyond what is presented here include the following:\n",
        "*  Continued hyperparameter tuning based on iterative feedback from users of an app.\n",
        "*  Closeness calculations based off of particular element types rather than all elements (say, Knowledge and Skills, but not Work Activities).\n",
        "*  Application feature optimization, such as level-setting for individual features."
      ],
      "metadata": {
        "id": "q157pvKiXIvI"
      }
    },
    {
      "cell_type": "markdown",
      "source": [
        "## Conclusion\n",
        "After this work, we now have a sense of how occupation groups are organized and how we can manually cluster them based on knowledge, skills, abilities, and work activities, rather than simply based on occpuation type and industry classification.\n",
        "\n",
        "Additionally, the clustering work done here can be the basis to potential applications for job seekers, and specifically those re-entering the workforce after prolonged absences based on old and acquired skills which can easily transfer over to a new setting."
      ],
      "metadata": {
        "id": "eApqX13XDnRx"
      }
    },
    {
      "cell_type": "code",
      "source": [
        ""
      ],
      "metadata": {
        "id": "jaZyntQvX1r-"
      },
      "execution_count": null,
      "outputs": []
    }
  ]
}